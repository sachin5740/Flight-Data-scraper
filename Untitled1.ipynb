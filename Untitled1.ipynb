{
 "cells": [
  {
   "cell_type": "code",
   "execution_count": 1,
   "id": "norwegian-clause",
   "metadata": {},
   "outputs": [
    {
     "name": "stdout",
     "output_type": "stream",
     "text": [
      "['C:\\\\Users\\\\kapil\\\\OneDrive\\\\Desktop\\\\Test-code\\\\FlightsData_1BOM-DEL-08-03-2021.csv', 'C:\\\\Users\\\\kapil\\\\OneDrive\\\\Desktop\\\\Test-code\\\\FlightsData_1BOM-DEL-10-03-2021.csv', 'C:\\\\Users\\\\kapil\\\\OneDrive\\\\Desktop\\\\Test-code\\\\FlightsData_1BOM-DEL-26-02-2021.csv']\n",
      "                   flight_code departure_time departure_city  flight_duration  \\\n",
      "flight_name                                                                     \n",
      "AirAsia        I5-320 | I5-782          10:45         Mumbai  06 hrs 35 mins    \n",
      "AirAsia        I5-671 | I5-979          15:05         Mumbai  06 hrs 45 mins    \n",
      "AirAsia        I5-934 | I5-755          15:25         Mumbai  09 hrs 35 mins    \n",
      "AirAsia        I5-934 | I5-996          15:25         Mumbai  09 hrs 45 mins    \n",
      "AirAsia        I5-341 | I5-729          21:55         Mumbai  10 hrs 50 mins    \n",
      "...                        ...            ...            ...              ...   \n",
      "IndiGo         6E-317 | 6E-276          13:50         Mumbai  06 hrs 10 mins    \n",
      "IndiGo         6E-179 | 6E-276          12:45         Mumbai  07 hrs 15 mins    \n",
      "Spicejet     SG-2842 | SG-2642          06:35         Mumbai  14 hrs 50 mins    \n",
      "IndiGo         6E-533 | 6E-184          07:50         Mumbai  06 hrs 30 mins    \n",
      "AirAsia        I5-984 | I5-741          23:25         Mumbai  14 hrs 55 mins    \n",
      "\n",
      "                        arrival_time arrival_city flight_cost Date_of_flight  \n",
      "flight_name                                                                   \n",
      "AirAsia                        17:20    New Delhi     ₹ 3,600     08-03-2021  \n",
      "AirAsia                        21:50    New Delhi     ₹ 3,600     08-03-2021  \n",
      "AirAsia      01:00+ 1 DAY09 Mar 2021    New Delhi     ₹ 3,968     08-03-2021  \n",
      "AirAsia      01:10+ 1 DAY09 Mar 2021    New Delhi     ₹ 3,600     08-03-2021  \n",
      "AirAsia      08:45+ 1 DAY09 Mar 2021    New Delhi     ₹ 3,600     08-03-2021  \n",
      "...                              ...          ...         ...            ...  \n",
      "IndiGo                         20:00    New Delhi     ₹ 4,650     10-03-2021  \n",
      "IndiGo                         20:00    New Delhi     ₹ 4,020     10-03-2021  \n",
      "Spicejet                       21:25    New Delhi     ₹ 4,020     10-03-2021  \n",
      "IndiGo                         14:20    New Delhi     ₹ 4,650     10-03-2021  \n",
      "AirAsia      14:20+ 1 DAY27 Feb 2021    New Delhi     ₹ 9,999     26-02-2021  \n",
      "\n",
      "[236 rows x 8 columns]\n"
     ]
    }
   ],
   "source": [
    "import pandas as pd\n",
    "from glob import glob\n",
    "\n",
    "path=r'C:\\Users\\kapil\\OneDrive\\Desktop\\Test-code' \n",
    "filesname = glob (path + \"/*.csv\")\n",
    "print(filesname)\n",
    "\n",
    "files = [filesname]\n",
    "#print(files)\n",
    "concat_files = pd.DataFrame()\n",
    "#print(concat_files)\n",
    "\n",
    "for file_path in files:\n",
    "    for path_of_file in file_path:\n",
    "        #print(type(path_of_file[-14:-4]))\n",
    "        \n",
    "        df = pd.read_csv(path_of_file)\n",
    "        #print(df)\n",
    "        # concat_files = pd.concat()\n",
    "        df.set_index('flight_name', inplace=True)\n",
    "        #total indexs\n",
    "        index = df.index\n",
    "        # Declare a list that is to be converted into a column \n",
    "        date_of_flight = [path_of_file[-14:-4] for i in range(len(index)) ]\n",
    "        # print(date_of_flight)\n",
    "        df['Date_of_flight'] = date_of_flight\n",
    "        concat_files = concat_files.append(df)\n",
    "    concat_files.to_csv('combined_csv_data.csv')\n",
    "    print(concat_files)\n"
   ]
  },
  {
   "cell_type": "code",
   "execution_count": null,
   "id": "cathedral-evanescence",
   "metadata": {},
   "outputs": [],
   "source": []
  }
 ],
 "metadata": {
  "kernelspec": {
   "display_name": "Python 3",
   "language": "python",
   "name": "python3"
  },
  "language_info": {
   "codemirror_mode": {
    "name": "ipython",
    "version": 3
   },
   "file_extension": ".py",
   "mimetype": "text/x-python",
   "name": "python",
   "nbconvert_exporter": "python",
   "pygments_lexer": "ipython3",
   "version": "3.9.1"
  }
 },
 "nbformat": 4,
 "nbformat_minor": 5
}
